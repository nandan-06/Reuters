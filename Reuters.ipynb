{
  "nbformat": 4,
  "nbformat_minor": 0,
  "metadata": {
    "colab": {
      "provenance": []
    },
    "kernelspec": {
      "name": "python3",
      "display_name": "Python 3"
    },
    "language_info": {
      "name": "python"
    }
  },
  "cells": [
    {
      "cell_type": "code",
      "execution_count": 1,
      "metadata": {
        "colab": {
          "base_uri": "https://localhost:8080/"
        },
        "id": "4mEYcjAbiV7v",
        "outputId": "86750965-d4b9-436a-ba0e-5da7c59f1328"
      },
      "outputs": [
        {
          "output_type": "stream",
          "name": "stdout",
          "text": [
            "Downloading data from https://storage.googleapis.com/tensorflow/tf-keras-datasets/reuters.npz\n",
            "2110848/2110848 [==============================] - 0s 0us/step\n"
          ]
        }
      ],
      "source": [
        "from tensorflow.keras.datasets import reuters\n",
        "(train_data, train_labels), (test_data, test_labels) = reuters.load_data(num_words=10000)"
      ]
    },
    {
      "cell_type": "code",
      "source": [
        "len(train_data)"
      ],
      "metadata": {
        "colab": {
          "base_uri": "https://localhost:8080/"
        },
        "id": "iMO3NePXoEb1",
        "outputId": "5f6f4218-91ab-42d0-c7b4-4020260bafad"
      },
      "execution_count": 3,
      "outputs": [
        {
          "output_type": "execute_result",
          "data": {
            "text/plain": [
              "8982"
            ]
          },
          "metadata": {},
          "execution_count": 3
        }
      ]
    },
    {
      "cell_type": "code",
      "source": [
        "len(test_data)"
      ],
      "metadata": {
        "colab": {
          "base_uri": "https://localhost:8080/"
        },
        "id": "UTk1KawjoKbS",
        "outputId": "39744e4e-a84c-4be5-94ac-1382b9cbf51a"
      },
      "execution_count": 4,
      "outputs": [
        {
          "output_type": "execute_result",
          "data": {
            "text/plain": [
              "2246"
            ]
          },
          "metadata": {},
          "execution_count": 4
        }
      ]
    },
    {
      "cell_type": "code",
      "source": [
        "train_data[0]"
      ],
      "metadata": {
        "id": "ROzWjeB6oLcO"
      },
      "execution_count": null,
      "outputs": []
    },
    {
      "cell_type": "code",
      "source": [
        "word_index = reuters.get_word_index()"
      ],
      "metadata": {
        "colab": {
          "base_uri": "https://localhost:8080/"
        },
        "id": "P2qcztuBoPS-",
        "outputId": "9082ee89-b83b-4601-d5fe-2ab529b6469f"
      },
      "execution_count": 7,
      "outputs": [
        {
          "output_type": "stream",
          "name": "stdout",
          "text": [
            "Downloading data from https://storage.googleapis.com/tensorflow/tf-keras-datasets/reuters_word_index.json\n",
            "550378/550378 [==============================] - 0s 0us/step\n"
          ]
        }
      ]
    },
    {
      "cell_type": "code",
      "source": [
        "word_index"
      ],
      "metadata": {
        "id": "YhMKeUpdoZwv"
      },
      "execution_count": null,
      "outputs": []
    },
    {
      "cell_type": "code",
      "source": [
        "reverse_word_index = dict([(value, key) for (key, value) in word_index.items()])"
      ],
      "metadata": {
        "id": "PdccnX1WobeC"
      },
      "execution_count": 9,
      "outputs": []
    },
    {
      "cell_type": "code",
      "source": [
        "reverse_word_index"
      ],
      "metadata": {
        "id": "bONlDhA9otcQ"
      },
      "execution_count": null,
      "outputs": []
    },
    {
      "cell_type": "code",
      "source": [
        "decoded_newswire = ' '.join([reverse_word_index.get(i-3,'?') for i in train_data[0]])"
      ],
      "metadata": {
        "id": "Lz76_wdoov41"
      },
      "execution_count": 18,
      "outputs": []
    },
    {
      "cell_type": "code",
      "source": [
        "decoded_newswire"
      ],
      "metadata": {
        "colab": {
          "base_uri": "https://localhost:8080/",
          "height": 105
        },
        "id": "UD1PArHJpDLt",
        "outputId": "6adb5fb9-fc1c-4637-a1b3-2b1f73ab1dec"
      },
      "execution_count": 19,
      "outputs": [
        {
          "output_type": "execute_result",
          "data": {
            "text/plain": [
              "'? ? ? said as a result of its december acquisition of space co it expects earnings per share in 1987 of 1 15 to 1 30 dlrs per share up from 70 cts in 1986 the company said pretax net should rise to nine to 10 mln dlrs from six mln dlrs in 1986 and rental operation revenues to 19 to 22 mln dlrs from 12 5 mln dlrs it said cash flow per share this year should be 2 50 to three dlrs reuter 3'"
            ],
            "application/vnd.google.colaboratory.intrinsic+json": {
              "type": "string"
            }
          },
          "metadata": {},
          "execution_count": 19
        }
      ]
    },
    {
      "cell_type": "code",
      "source": [
        "import numpy as np\n",
        "def vectorize_sequences(sequences, dimension = 10000):\n",
        "  results = np.zeros((len(sequences), dimension))\n",
        "  for i, sequence in enumerate (sequences):\n",
        "    results[i,sequence] = 1\n",
        "  return results\n",
        "\n",
        "X_train = vectorize_sequences(train_data)\n",
        "X_test = vectorize_sequences(test_data)"
      ],
      "metadata": {
        "id": "GjVBT-48pFKS"
      },
      "execution_count": 22,
      "outputs": []
    },
    {
      "cell_type": "code",
      "source": [
        "X_train"
      ],
      "metadata": {
        "colab": {
          "base_uri": "https://localhost:8080/"
        },
        "id": "eEKjx9xXqUc5",
        "outputId": "94d5d369-e1e1-4baa-91ab-b54cacd1b6df"
      },
      "execution_count": 23,
      "outputs": [
        {
          "output_type": "execute_result",
          "data": {
            "text/plain": [
              "array([[0., 1., 1., ..., 0., 0., 0.],\n",
              "       [0., 1., 1., ..., 0., 0., 0.],\n",
              "       [0., 1., 1., ..., 0., 0., 0.],\n",
              "       ...,\n",
              "       [0., 1., 1., ..., 0., 0., 0.],\n",
              "       [0., 1., 1., ..., 0., 0., 0.],\n",
              "       [0., 1., 1., ..., 0., 0., 0.]])"
            ]
          },
          "metadata": {},
          "execution_count": 23
        }
      ]
    },
    {
      "cell_type": "code",
      "source": [
        "def to_one_hot(labels, dimension=46):\n",
        "  results = np.zeros((len(labels), dimension))\n",
        "  for i, label in enumerate (labels):\n",
        "    results[i,label] = 1\n",
        "  return results\n",
        "\n",
        "one_hot_train_labels = to_one_hot(train_labels)\n",
        "one_hot_test_labels = to_one_hot(test_labels)"
      ],
      "metadata": {
        "id": "9dIN89xMqWqH"
      },
      "execution_count": 24,
      "outputs": []
    },
    {
      "cell_type": "code",
      "source": [
        "one_hot_train_labels"
      ],
      "metadata": {
        "colab": {
          "base_uri": "https://localhost:8080/"
        },
        "id": "41Jl56mkrEhA",
        "outputId": "9660d392-4cbf-4555-b619-7a4417e5765b"
      },
      "execution_count": 25,
      "outputs": [
        {
          "output_type": "execute_result",
          "data": {
            "text/plain": [
              "array([[0., 0., 0., ..., 0., 0., 0.],\n",
              "       [0., 0., 0., ..., 0., 0., 0.],\n",
              "       [0., 0., 0., ..., 0., 0., 0.],\n",
              "       ...,\n",
              "       [0., 0., 0., ..., 0., 0., 0.],\n",
              "       [0., 0., 0., ..., 0., 0., 0.],\n",
              "       [0., 0., 0., ..., 0., 0., 0.]])"
            ]
          },
          "metadata": {},
          "execution_count": 25
        }
      ]
    },
    {
      "cell_type": "code",
      "source": [
        "# Inbuilt funtion in keras for one hot encoding the labels in categorical dataset\n",
        "from tensorflow.keras.utils import to_categorical\n",
        "one_hot_train_labels = to_categorical(train_labels)\n",
        "one_hot_test_labels = to_categorical(test_labels)"
      ],
      "metadata": {
        "id": "l3NNcW2prG4y"
      },
      "execution_count": 27,
      "outputs": []
    },
    {
      "cell_type": "markdown",
      "source": [
        "As this is a multiclass classifictaion problem with 46 dimensions, we cannot use layers with 16 dimensions as it will drop the relevant information for the model. Thus using layers with 64 units and the last layer with 46 units."
      ],
      "metadata": {
        "id": "bwhCTOe4scTk"
      }
    },
    {
      "cell_type": "code",
      "source": [
        "import tensorflow as tf\n",
        "from tensorflow import keras\n",
        "from tensorflow.keras import layers"
      ],
      "metadata": {
        "id": "nUdAoWmbs4X7"
      },
      "execution_count": 29,
      "outputs": []
    },
    {
      "cell_type": "code",
      "source": [
        "model = keras.Sequential([\n",
        "    layers.Dense(64, activation='relu'),\n",
        "    layers.Dense(64, activation='relu'),\n",
        "    layers.Dense(46, activation='softmax')\n",
        "])\n",
        "\n",
        "model.compile(\n",
        "    optimizer = 'rmsprop',\n",
        "    loss = 'categorical_crossentropy',\n",
        "    metrics = ['acc']\n",
        ")"
      ],
      "metadata": {
        "id": "GAVGMOcCrsUk"
      },
      "execution_count": 30,
      "outputs": []
    },
    {
      "cell_type": "code",
      "source": [
        "X_val = X_train[:1000]\n",
        "partial_X_train = X_train[1000:]\n",
        "\n",
        "y_val = one_hot_train_labels[:1000]\n",
        "partial_y_train = one_hot_train_labels[1000:]"
      ],
      "metadata": {
        "id": "XbxQPEn3tkWg"
      },
      "execution_count": 31,
      "outputs": []
    },
    {
      "cell_type": "code",
      "source": [
        "history = model.fit(\n",
        "    partial_X_train,\n",
        "    partial_y_train,\n",
        "    epochs = 20,\n",
        "    batch_size = 512,\n",
        "    validation_data = (X_val,y_val)\n",
        ")"
      ],
      "metadata": {
        "colab": {
          "base_uri": "https://localhost:8080/"
        },
        "id": "vhs3FvTrt7is",
        "outputId": "9ff6ca12-84a1-4666-ba76-064291b580b9"
      },
      "execution_count": 32,
      "outputs": [
        {
          "output_type": "stream",
          "name": "stdout",
          "text": [
            "Epoch 1/20\n",
            "16/16 [==============================] - 2s 60ms/step - loss: 2.6759 - acc: 0.4803 - val_loss: 1.7298 - val_acc: 0.6540\n",
            "Epoch 2/20\n",
            "16/16 [==============================] - 1s 46ms/step - loss: 1.4229 - acc: 0.7131 - val_loss: 1.2835 - val_acc: 0.7190\n",
            "Epoch 3/20\n",
            "16/16 [==============================] - 1s 45ms/step - loss: 1.0595 - acc: 0.7777 - val_loss: 1.1255 - val_acc: 0.7500\n",
            "Epoch 4/20\n",
            "16/16 [==============================] - 1s 47ms/step - loss: 0.8431 - acc: 0.8205 - val_loss: 1.0362 - val_acc: 0.7740\n",
            "Epoch 5/20\n",
            "16/16 [==============================] - 1s 48ms/step - loss: 0.6784 - acc: 0.8540 - val_loss: 0.9589 - val_acc: 0.8050\n",
            "Epoch 6/20\n",
            "16/16 [==============================] - 1s 48ms/step - loss: 0.5449 - acc: 0.8842 - val_loss: 0.9630 - val_acc: 0.7950\n",
            "Epoch 7/20\n",
            "16/16 [==============================] - 1s 46ms/step - loss: 0.4402 - acc: 0.9058 - val_loss: 0.9059 - val_acc: 0.7990\n",
            "Epoch 8/20\n",
            "16/16 [==============================] - 1s 46ms/step - loss: 0.3570 - acc: 0.9241 - val_loss: 0.9179 - val_acc: 0.8100\n",
            "Epoch 9/20\n",
            "16/16 [==============================] - 1s 47ms/step - loss: 0.2947 - acc: 0.9370 - val_loss: 0.9085 - val_acc: 0.8140\n",
            "Epoch 10/20\n",
            "16/16 [==============================] - 1s 47ms/step - loss: 0.2467 - acc: 0.9439 - val_loss: 0.9214 - val_acc: 0.8090\n",
            "Epoch 11/20\n",
            "16/16 [==============================] - 1s 46ms/step - loss: 0.2129 - acc: 0.9495 - val_loss: 1.1064 - val_acc: 0.7760\n",
            "Epoch 12/20\n",
            "16/16 [==============================] - 1s 48ms/step - loss: 0.1880 - acc: 0.9510 - val_loss: 0.9429 - val_acc: 0.8120\n",
            "Epoch 13/20\n",
            "16/16 [==============================] - 1s 46ms/step - loss: 0.1689 - acc: 0.9521 - val_loss: 1.0549 - val_acc: 0.7920\n",
            "Epoch 14/20\n",
            "16/16 [==============================] - 1s 46ms/step - loss: 0.1510 - acc: 0.9540 - val_loss: 0.9972 - val_acc: 0.8110\n",
            "Epoch 15/20\n",
            "16/16 [==============================] - 1s 47ms/step - loss: 0.1452 - acc: 0.9558 - val_loss: 0.9783 - val_acc: 0.8210\n",
            "Epoch 16/20\n",
            "16/16 [==============================] - 1s 47ms/step - loss: 0.1342 - acc: 0.9558 - val_loss: 1.0360 - val_acc: 0.8220\n",
            "Epoch 17/20\n",
            "16/16 [==============================] - 1s 47ms/step - loss: 0.1246 - acc: 0.9554 - val_loss: 1.0610 - val_acc: 0.8040\n",
            "Epoch 18/20\n",
            "16/16 [==============================] - 1s 46ms/step - loss: 0.1257 - acc: 0.9563 - val_loss: 1.0455 - val_acc: 0.8110\n",
            "Epoch 19/20\n",
            "16/16 [==============================] - 1s 48ms/step - loss: 0.1169 - acc: 0.9582 - val_loss: 1.0763 - val_acc: 0.8040\n",
            "Epoch 20/20\n",
            "16/16 [==============================] - 1s 48ms/step - loss: 0.1136 - acc: 0.9585 - val_loss: 1.0762 - val_acc: 0.8090\n"
          ]
        }
      ]
    },
    {
      "cell_type": "code",
      "source": [
        "import matplotlib.pyplot as plt"
      ],
      "metadata": {
        "id": "KlA-OYBLujLx"
      },
      "execution_count": 34,
      "outputs": []
    },
    {
      "cell_type": "code",
      "source": [
        "loss = history.history['loss']\n",
        "val_loss = history.history['val_loss']\n",
        "epochs = range(1, len(loss)+1)\n",
        "plt.plot(epochs,loss, 'bo', label = 'Training loss')\n",
        "plt.plot(epochs,val_loss, 'blue', label = 'Validation loss')\n",
        "plt.title('Loss')\n",
        "plt.xlabel('epochs')\n",
        "plt.ylabel('loss')\n",
        "plt.legend()\n",
        "plt.show()"
      ],
      "metadata": {
        "colab": {
          "base_uri": "https://localhost:8080/",
          "height": 295
        },
        "id": "TF3Z553-uKDI",
        "outputId": "dbcb346d-cef7-49f5-9404-d8d74e2e0983"
      },
      "execution_count": 35,
      "outputs": [
        {
          "output_type": "display_data",
          "data": {
            "text/plain": [
              "<Figure size 432x288 with 1 Axes>"
            ],
            "image/png": "[encoded data removed]"
          },
          "metadata": {
            "needs_background": "light"
          }
        }
      ]
    },
    {
      "cell_type": "code",
      "source": [
        "accuracy = history.history['acc']\n",
        "val_accuracy = history.history['val_acc']\n",
        "epochs = range(1, len(loss)+1)\n",
        "plt.plot(epochs,accuracy, 'bo', label = 'Training accuracy')\n",
        "plt.plot(epochs,val_accuracy, 'blue', label = 'Validation accuracy')\n",
        "plt.title('accuracy')\n",
        "plt.xlabel('epochs')\n",
        "plt.ylabel('accuracy')\n",
        "plt.legend()\n",
        "plt.show()"
      ],
      "metadata": {
        "colab": {
          "base_uri": "https://localhost:8080/",
          "height": 295
        },
        "id": "1kMMOutMvEJd",
        "outputId": "48e577af-f412-4e18-a646-2dac08e13cc7"
      },
      "execution_count": 39,
      "outputs": [
        {
          "output_type": "display_data",
          "data": {
            "text/plain": [
              "<Figure size 432x288 with 1 Axes>"
            ],
            "image/png": "[encoded data removed]"
          },
          "metadata": {
            "needs_background": "light"
          }
        }
      ]
    },
    {
      "cell_type": "markdown",
      "source": [
        "## Retraining the model from scratch"
      ],
      "metadata": {
        "id": "ydfsz3Pjvyoh"
      }
    },
    {
      "cell_type": "code",
      "source": [
        "model = keras.Sequential([\n",
        "    layers.Dense(64, activation='relu'),\n",
        "    layers.Dense(64, activation='relu'),\n",
        "    layers.Dense(46, activation='softmax')\n",
        "])\n",
        "\n",
        "model.compile(\n",
        "    optimizer = 'rmsprop',\n",
        "    loss = 'categorical_crossentropy',\n",
        "    metrics = ['acc']\n",
        ")\n",
        "\n",
        "model.fit(partial_X_train,\n",
        "          partial_y_train,\n",
        "          epochs = 9,\n",
        "          batch_size = 512,\n",
        "          validation_data = (X_val,y_val))\n",
        "\n",
        "results = model.evaluate(X_test, one_hot_test_labels)"
      ],
      "metadata": {
        "colab": {
          "base_uri": "https://localhost:8080/"
        },
        "id": "nsl4eTWpvUk9",
        "outputId": "8840dfd0-d6ca-400e-8031-6399da84c68d"
      },
      "execution_count": 41,
      "outputs": [
        {
          "output_type": "stream",
          "name": "stdout",
          "text": [
            "Epoch 1/9\n",
            "16/16 [==============================] - 2s 63ms/step - loss: 2.6996 - acc: 0.4894 - val_loss: 1.7859 - val_acc: 0.6480\n",
            "Epoch 2/9\n",
            "16/16 [==============================] - 1s 50ms/step - loss: 1.4461 - acc: 0.7116 - val_loss: 1.3109 - val_acc: 0.7270\n",
            "Epoch 3/9\n",
            "16/16 [==============================] - 1s 49ms/step - loss: 1.0619 - acc: 0.7727 - val_loss: 1.1332 - val_acc: 0.7600\n",
            "Epoch 4/9\n",
            "16/16 [==============================] - 1s 48ms/step - loss: 0.8415 - acc: 0.8182 - val_loss: 1.0476 - val_acc: 0.7730\n",
            "Epoch 5/9\n",
            "16/16 [==============================] - 1s 47ms/step - loss: 0.6779 - acc: 0.8528 - val_loss: 1.0038 - val_acc: 0.7790\n",
            "Epoch 6/9\n",
            "16/16 [==============================] - 1s 49ms/step - loss: 0.5495 - acc: 0.8837 - val_loss: 0.9508 - val_acc: 0.7980\n",
            "Epoch 7/9\n",
            "16/16 [==============================] - 1s 48ms/step - loss: 0.4432 - acc: 0.9084 - val_loss: 0.9564 - val_acc: 0.8010\n",
            "Epoch 8/9\n",
            "16/16 [==============================] - 1s 48ms/step - loss: 0.3693 - acc: 0.9243 - val_loss: 0.9416 - val_acc: 0.8040\n",
            "Epoch 9/9\n",
            "16/16 [==============================] - 1s 46ms/step - loss: 0.3011 - acc: 0.9349 - val_loss: 0.9562 - val_acc: 0.8040\n",
            "71/71 [==============================] - 0s 4ms/step - loss: 1.0021 - acc: 0.7836\n"
          ]
        }
      ]
    },
    {
      "cell_type": "code",
      "source": [
        "results"
      ],
      "metadata": {
        "colab": {
          "base_uri": "https://localhost:8080/"
        },
        "id": "cy9aEqfhxOKs",
        "outputId": "47815bd9-2662-46c9-ca46-84cc2a09a87a"
      },
      "execution_count": 43,
      "outputs": [
        {
          "output_type": "execute_result",
          "data": {
            "text/plain": [
              "[1.0021414756774902, 0.7836152911186218]"
            ]
          },
          "metadata": {},
          "execution_count": 43
        }
      ]
    },
    {
      "cell_type": "code",
      "source": [
        "predictions = model.predict(X_test)"
      ],
      "metadata": {
        "colab": {
          "base_uri": "https://localhost:8080/"
        },
        "id": "iMTpEQVczA_W",
        "outputId": "bfbe9ce6-0c2a-45f6-94fd-73970c810dfd"
      },
      "execution_count": 44,
      "outputs": [
        {
          "output_type": "stream",
          "name": "stdout",
          "text": [
            "71/71 [==============================] - 1s 6ms/step\n"
          ]
        }
      ]
    },
    {
      "cell_type": "code",
      "source": [
        "predictions[0]"
      ],
      "metadata": {
        "colab": {
          "base_uri": "https://localhost:8080/"
        },
        "id": "f98w6NNozE01",
        "outputId": "97c40ebb-0c2c-44d7-9601-a1034dc23ea2"
      },
      "execution_count": 45,
      "outputs": [
        {
          "output_type": "execute_result",
          "data": {
            "text/plain": [
              "array([3.2131589e-05, 4.3131975e-05, 1.1883740e-06, 9.8626381e-01,\n",
              "       7.7658109e-03, 1.2417662e-05, 1.3210523e-04, 1.9057590e-05,\n",
              "       9.0823311e-04, 9.4561692e-06, 8.6314445e-05, 1.6351775e-04,\n",
              "       1.9622390e-04, 1.1143686e-05, 3.6153055e-05, 4.0059153e-06,\n",
              "       1.8684020e-04, 5.2762305e-05, 1.4906829e-04, 5.7023735e-04,\n",
              "       2.2826567e-03, 5.2668849e-05, 1.9211998e-06, 9.5145850e-05,\n",
              "       3.7267907e-06, 1.0728266e-04, 1.0318783e-05, 2.1975175e-06,\n",
              "       1.7116854e-05, 4.1544463e-05, 1.3153060e-04, 2.3747296e-05,\n",
              "       2.8298768e-06, 9.1619486e-06, 1.9054902e-05, 5.6249742e-06,\n",
              "       6.7454348e-05, 2.0520723e-05, 1.5551556e-06, 3.5729117e-04,\n",
              "       5.6984918e-06, 3.5073073e-05, 4.7870653e-06, 4.9541686e-05,\n",
              "       7.5821690e-06, 3.0852442e-07], dtype=float32)"
            ]
          },
          "metadata": {},
          "execution_count": 45
        }
      ]
    },
    {
      "cell_type": "code",
      "source": [
        "np.sum(predictions[0])"
      ],
      "metadata": {
        "colab": {
          "base_uri": "https://localhost:8080/"
        },
        "id": "OdT5OZKCzGiw",
        "outputId": "0a1be1e2-076a-4a7f-cb50-12b6df277e52"
      },
      "execution_count": 46,
      "outputs": [
        {
          "output_type": "execute_result",
          "data": {
            "text/plain": [
              "0.9999998"
            ]
          },
          "metadata": {},
          "execution_count": 46
        }
      ]
    },
    {
      "cell_type": "code",
      "source": [
        "np.argmax(predictions[0])"
      ],
      "metadata": {
        "colab": {
          "base_uri": "https://localhost:8080/"
        },
        "id": "QwCwyCndzMLO",
        "outputId": "c2cf4dfd-1446-40b2-e8f8-98a1661c214e"
      },
      "execution_count": 48,
      "outputs": [
        {
          "output_type": "execute_result",
          "data": {
            "text/plain": [
              "3"
            ]
          },
          "metadata": {},
          "execution_count": 48
        }
      ]
    }
  ]
}